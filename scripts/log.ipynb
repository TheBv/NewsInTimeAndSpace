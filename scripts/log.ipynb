{
 "cells": [
  {
   "cell_type": "code",
   "execution_count": 17,
   "metadata": {},
   "outputs": [],
   "source": [
    "web_ips = [\"141.2.108.220\", \"141.2.108.251\",\"141.2.108.221\"]\n",
    "# read all_logs.log\n",
    "vr_lines = []\n",
    "web_lines = []\n",
    "with open(\"all_logs.log\") as f:\n",
    "    log_lines = f.readlines()\n",
    "    for line in log_lines:\n",
    "        if \"INFO\" not in line:\n",
    "            continue\n",
    "        ip_data = line.split(\" | \")[0]\n",
    "        in_web = False\n",
    "        for ip in web_ips:\n",
    "            if ip in ip_data:\n",
    "                web_lines.append(line)\n",
    "                in_web = True\n",
    "                break \n",
    "        if in_web:\n",
    "            continue\n",
    "        vr_lines.append(line)\n",
    "    "
   ]
  },
  {
   "cell_type": "code",
   "execution_count": 18,
   "metadata": {},
   "outputs": [],
   "source": [
    "ips = {}\n",
    "for line in vr_lines:\n",
    "    address = line.split(\" | \")\n",
    "    if address[0] in ips:\n",
    "        ips[address[0]] += 1\n",
    "    else:\n",
    "        ips[address[0]] = 1"
   ]
  },
  {
   "cell_type": "code",
   "execution_count": 19,
   "metadata": {},
   "outputs": [
    {
     "data": {
      "text/plain": [
       "{'INFO: 141.2.134.119': 238,\n",
       " 'INFO: 141.2.134.117': 155,\n",
       " 'INFO: 141.2.134.107': 275,\n",
       " 'INFO: 141.2.134.108': 183,\n",
       " 'INFO: 141.2.134.114': 137}"
      ]
     },
     "execution_count": 19,
     "metadata": {},
     "output_type": "execute_result"
    }
   ],
   "source": [
    "ips"
   ]
  },
  {
   "cell_type": "code",
   "execution_count": 36,
   "metadata": {},
   "outputs": [],
   "source": [
    "\n",
    "def get_types(lines):\n",
    "    types = {}\n",
    "    for line in lines:\n",
    "        data = line.split(\" | \")[3]\n",
    "        params = data.split(\";\")\n",
    "        param: str\n",
    "        for param in params:\n",
    "            if \"type\" in param:\n",
    "                for type in param.lstrip(\"type=\").split(\",\"):\n",
    "                    if type in types:\n",
    "                        types[type] += 1\n",
    "                    else:\n",
    "                        types[type] = 1\n",
    "    return types"
   ]
  },
  {
   "cell_type": "code",
   "execution_count": 37,
   "metadata": {},
   "outputs": [
    {
     "name": "stdout",
     "output_type": "stream",
     "text": [
      "{'020': 9, '026': 6, '0232': 51, '022': 3, '0242': 3, '0234': 15, '0256': 6, '0212': 3, '1054': 33, '1123': 3, '0332': 3, '138': 3, '0254': 27, '0311': 12, '1211': 18, '085': 6, '061': 24, '114': 6, '060': 3, '202': 6, '203': 3, '201': 3, '046': 3, '090': 3, '130': 3, '1122': 6, '0211': 27, '1031': 3}\n",
      "{'010': 68, '061': 136, '111': 116, '0311': 40, '012': 116, '190': 40, '130': 40, '172': 16, '110': 8, '090': 12, '1121': 20, '1124': 16, '1123': 12, '042': 4, '0211': 24, '021': 24, '071': 16}\n",
      "291\n",
      "708\n"
     ]
    }
   ],
   "source": [
    "web_types = get_types(web_lines)\n",
    "vr_types = get_types(vr_lines)\n",
    "print(web_types)\n",
    "print(vr_types)\n",
    "web_type_sum = sum(web_types.values())\n",
    "vr_type_sum = sum(vr_types.values())\n",
    "print(web_type_sum)\n",
    "print(vr_type_sum)"
   ]
  },
  {
   "cell_type": "markdown",
   "metadata": {},
   "source": []
  },
  {
   "cell_type": "code",
   "execution_count": 30,
   "metadata": {},
   "outputs": [
    {
     "data": {
      "text/plain": [
       "988"
      ]
     },
     "execution_count": 30,
     "metadata": {},
     "output_type": "execute_result"
    }
   ],
   "source": [
    "len(vr_lines)"
   ]
  },
  {
   "cell_type": "code",
   "execution_count": 21,
   "metadata": {},
   "outputs": [
    {
     "data": {
      "text/plain": [
       "563"
      ]
     },
     "execution_count": 21,
     "metadata": {},
     "output_type": "execute_result"
    }
   ],
   "source": [
    "len(web_lines)"
   ]
  }
 ],
 "metadata": {
  "kernelspec": {
   "display_name": "Python 3",
   "language": "python",
   "name": "python3"
  },
  "language_info": {
   "codemirror_mode": {
    "name": "ipython",
    "version": 3
   },
   "file_extension": ".py",
   "mimetype": "text/x-python",
   "name": "python",
   "nbconvert_exporter": "python",
   "pygments_lexer": "ipython3",
   "version": "3.8.10"
  }
 },
 "nbformat": 4,
 "nbformat_minor": 2
}
