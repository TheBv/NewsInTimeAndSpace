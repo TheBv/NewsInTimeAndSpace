{
 "cells": [
  {
   "cell_type": "code",
   "execution_count": 46,
   "metadata": {},
   "outputs": [],
   "source": [
    "web_ips = [\"141.2.108.220\", \"141.2.108.251\",\"141.2.108.221\"]\n",
    "# read all_logs.log\n",
    "vr_lines = []\n",
    "web_lines = []\n",
    "with open(\"all_logs.log\") as f:\n",
    "    log_lines = f.readlines()\n",
    "    for line in log_lines:\n",
    "        if \"INFO\" not in line:\n",
    "            continue\n",
    "        ip_data = line.split(\" | \")[0]\n",
    "        in_web = False\n",
    "        for ip in web_ips:\n",
    "            if ip in ip_data:\n",
    "                web_lines.append(line)\n",
    "                in_web = True\n",
    "                break \n",
    "        if in_web:\n",
    "            continue\n",
    "        vr_lines.append(line)\n",
    "    "
   ]
  },
  {
   "cell_type": "code",
   "execution_count": 47,
   "metadata": {},
   "outputs": [],
   "source": [
    "ips = {}\n",
    "for line in vr_lines:\n",
    "    address = line.split(\" | \")\n",
    "    if address[0] in ips:\n",
    "        ips[address[0]] += 1\n",
    "    else:\n",
    "        ips[address[0]] = 1"
   ]
  },
  {
   "cell_type": "code",
   "execution_count": 48,
   "metadata": {},
   "outputs": [
    {
     "data": {
      "text/plain": [
       "{'INFO: 141.2.134.117': 138,\n",
       " 'INFO: 141.2.134.119': 226,\n",
       " 'INFO: 141.2.134.107': 258,\n",
       " 'INFO: 141.2.134.108': 148,\n",
       " 'INFO: 141.2.134.114': 126}"
      ]
     },
     "execution_count": 48,
     "metadata": {},
     "output_type": "execute_result"
    }
   ],
   "source": [
    "ips"
   ]
  },
  {
   "cell_type": "code",
   "execution_count": 49,
   "metadata": {},
   "outputs": [],
   "source": [
    "\n",
    "def get_types(lines):\n",
    "    types = {}\n",
    "    for line in lines:\n",
    "        data = line.split(\" | \")[3]\n",
    "        params = data.split(\";\")\n",
    "        param: str\n",
    "        for param in params:\n",
    "            if \"type\" in param:\n",
    "                for type in param.lstrip(\"type=\").split(\",\"):\n",
    "                    if type in types:\n",
    "                        types[type] += 1\n",
    "                    else:\n",
    "                        types[type] = 1\n",
    "    return types\n",
    "\n",
    "def get_actors(lines):\n",
    "    actors = {}\n",
    "    for line in lines:\n",
    "        data = line.split(\" | \")[3]\n",
    "        params = data.split(\";\")\n",
    "        param: str\n",
    "        for param in params:\n",
    "            if \"actor\" in param:\n",
    "                for type in param.lstrip(\"actor=\").split(\",\"):\n",
    "                    if type in actors:\n",
    "                        actors[type] += 1\n",
    "                    else:\n",
    "                        actors[type] = 1\n",
    "    return actors"
   ]
  },
  {
   "cell_type": "code",
   "execution_count": 50,
   "metadata": {},
   "outputs": [],
   "source": [
    "\n",
    "def get_ids(lines):\n",
    "    amount = 0\n",
    "    for line in lines:\n",
    "        data = line.split(\" | \")[3]\n",
    "        params = data.split(\";\")\n",
    "        param: str\n",
    "        for param in params:\n",
    "            if \"id\" in param:\n",
    "                amount += 1\n",
    "                #for type in param.lstrip(\"id=\").split(\",\"):\n",
    "                    \n",
    "    return amount"
   ]
  },
  {
   "cell_type": "code",
   "execution_count": 51,
   "metadata": {},
   "outputs": [
    {
     "name": "stdout",
     "output_type": "stream",
     "text": [
      "896\n",
      "544\n"
     ]
    }
   ],
   "source": [
    "print(len(vr_lines))\n",
    "print(len(web_lines))"
   ]
  },
  {
   "cell_type": "code",
   "execution_count": null,
   "metadata": {},
   "outputs": [],
   "source": []
  },
  {
   "cell_type": "code",
   "execution_count": 52,
   "metadata": {},
   "outputs": [
    {
     "name": "stdout",
     "output_type": "stream",
     "text": [
      "{'020': 9, '026': 6, '0232': 51, '022': 3, '0242': 3, '0234': 15, '0256': 6, '0212': 3, '1054': 33, '1123': 3, '0332': 3, '138': 3, '0254': 27, '0311': 12, '1211': 18, '085': 6, '061': 24, '114': 6, '060': 3, '202': 6, '203': 3, '201': 3, '046': 3, '090': 3, '130': 3, '1122': 6, '0211': 27, '1031': 3}\n",
      "{'010': 64, '061': 136, '111': 116, '0311': 40, '012': 116, '190': 40, '130': 40, '172': 16, '110': 8, '090': 12, '1121': 20, '1124': 16, '1123': 12, '042': 4, '0211': 24, '021': 24, '071': 16}\n",
      "291\n",
      "704\n",
      "{'CHINA': 321, 'UNITED STATES OF AMERICA': 168, 'AMERICAN': 63, 'UNITED STATES': 192, 'BANK OF CHINA': 3, 'U. S.': 15, 'AFRICA': 3, 'REPUBLIC OF KOREA': 3, 'GERMANY': 3, 'GERMAN': 3, 'RUSSIA': 3, 'A US': 3, 'AMERICAN INSTITUTE IN TAIWAN': 6, 'AMERICAN WATER WORKS ASSOCIATION': 3, 'CHINA CONSTRUCTION BANK': 9, 'CHINESE': 3}\n",
      "{'UNITED STATES': 524, 'CHINA': 444, 'RUSSIA': 8}\n",
      "291\n",
      "704\n",
      "Unique actors WEB 16\n",
      "Unique actors VR 3\n",
      "Unique types WEB 28\n",
      "Unique types VR 17\n",
      "Articles read WEB 72\n",
      "Articles read VR 117\n"
     ]
    }
   ],
   "source": [
    "web_types = get_types(web_lines)\n",
    "vr_types = get_types(vr_lines)\n",
    "print(web_types)\n",
    "print(vr_types)\n",
    "web_type_sum = sum(web_types.values())\n",
    "vr_type_sum = sum(vr_types.values())\n",
    "print(web_type_sum)\n",
    "print(vr_type_sum)\n",
    "\n",
    "\n",
    "web_actors = get_actors(web_lines)\n",
    "vr_actors = get_actors(vr_lines)\n",
    "print(web_actors)\n",
    "print(vr_actors)\n",
    "web_actor_sum = sum(web_actors.values())\n",
    "vr_actor_sum = sum(vr_actors.values())\n",
    "print(web_type_sum)\n",
    "print(vr_type_sum)\n",
    "\n",
    "print(\"Unique actors WEB\", len(web_actors.keys()))\n",
    "print(\"Unique actors VR\", len(vr_actors.keys()))\n",
    "\n",
    "print(\"Unique types WEB\", len(web_types.keys()))\n",
    "print(\"Unique types VR\", len(vr_types.keys()))\n",
    "\n",
    "print(\"Articles read WEB\", get_ids(web_lines))\n",
    "print(\"Articles read VR\", get_ids(vr_lines))\n"
   ]
  },
  {
   "cell_type": "markdown",
   "metadata": {},
   "source": []
  },
  {
   "cell_type": "code",
   "execution_count": 53,
   "metadata": {},
   "outputs": [
    {
     "data": {
      "text/plain": [
       "896"
      ]
     },
     "execution_count": 53,
     "metadata": {},
     "output_type": "execute_result"
    }
   ],
   "source": [
    "len(vr_lines)"
   ]
  },
  {
   "cell_type": "code",
   "execution_count": 54,
   "metadata": {},
   "outputs": [
    {
     "data": {
      "text/plain": [
       "544"
      ]
     },
     "execution_count": 54,
     "metadata": {},
     "output_type": "execute_result"
    }
   ],
   "source": [
    "len(web_lines)"
   ]
  }
 ],
 "metadata": {
  "kernelspec": {
   "display_name": "Python 3",
   "language": "python",
   "name": "python3"
  },
  "language_info": {
   "codemirror_mode": {
    "name": "ipython",
    "version": 3
   },
   "file_extension": ".py",
   "mimetype": "text/x-python",
   "name": "python",
   "nbconvert_exporter": "python",
   "pygments_lexer": "ipython3",
   "version": "3.11.2"
  }
 },
 "nbformat": 4,
 "nbformat_minor": 2
}
